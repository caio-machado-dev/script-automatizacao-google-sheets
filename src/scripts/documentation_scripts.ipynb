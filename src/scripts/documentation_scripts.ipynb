{
 "cells": [
  {
   "cell_type": "markdown",
   "id": "a32c7591",
   "metadata": {},
   "source": [
    "# Conexão das Planilhas"
   ]
  },
  {
   "cell_type": "code",
   "execution_count": 5,
   "id": "db673931",
   "metadata": {},
   "outputs": [
    {
     "ename": "FileNotFoundError",
     "evalue": "[Errno 2] No such file or directory: 'src/scripts/credentials.json'",
     "output_type": "error",
     "traceback": [
      "\u001b[31m---------------------------------------------------------------------------\u001b[39m",
      "\u001b[31mFileNotFoundError\u001b[39m                         Traceback (most recent call last)",
      "\u001b[36mCell\u001b[39m\u001b[36m \u001b[39m\u001b[32mIn[5]\u001b[39m\u001b[32m, line 5\u001b[39m\n\u001b[32m      1\u001b[39m \u001b[38;5;28;01mimport\u001b[39;00m\u001b[38;5;250m \u001b[39m\u001b[34;01mpandas\u001b[39;00m\u001b[38;5;250m \u001b[39m\u001b[38;5;28;01mas\u001b[39;00m\u001b[38;5;250m \u001b[39m\u001b[34;01mpd\u001b[39;00m\n\u001b[32m      2\u001b[39m \u001b[38;5;28;01mfrom\u001b[39;00m\u001b[38;5;250m \u001b[39m\u001b[34;01mgoogle_sheets_utils\u001b[39;00m\u001b[38;5;250m \u001b[39m\u001b[38;5;28;01mimport\u001b[39;00m get_worksheet\n\u001b[32m----> \u001b[39m\u001b[32m5\u001b[39m worksheet1 = \u001b[43mget_worksheet\u001b[49m\u001b[43m(\u001b[49m\u001b[33;43m\"\u001b[39;49m\u001b[33;43m[100 PARCEIROS] PLANILHA GERAL\u001b[39;49m\u001b[33;43m\"\u001b[39;49m\u001b[43m)\u001b[49m\n\u001b[32m      6\u001b[39m worksheet2 = get_worksheet(\u001b[33m\"\u001b[39m\u001b[33mMenções da Bázico - Agência Bázico\u001b[39m\u001b[33m\"\u001b[39m)\n\u001b[32m      7\u001b[39m worksheet3 = get_worksheet(\u001b[33m\"\u001b[39m\u001b[33mLOG | SISTEMA DE INDICAÇÃO\u001b[39m\u001b[33m\"\u001b[39m)\n",
      "\u001b[36mFile \u001b[39m\u001b[32m~/scriptIndicacoesBazico/src/scripts/google_sheets_utils.py:10\u001b[39m, in \u001b[36mget_worksheet\u001b[39m\u001b[34m(worksheet_title, worksheet_index, credentials_path)\u001b[39m\n\u001b[32m      5\u001b[39m \u001b[38;5;28;01mdef\u001b[39;00m\u001b[38;5;250m \u001b[39m\u001b[34mget_worksheet\u001b[39m(worksheet_title: \u001b[38;5;28mstr\u001b[39m, worksheet_index: \u001b[38;5;28mint\u001b[39m = \u001b[32m0\u001b[39m, credentials_path: \u001b[38;5;28mstr\u001b[39m = \u001b[33m\"\u001b[39m\u001b[33msrc/scripts/credentials.json\u001b[39m\u001b[33m\"\u001b[39m):\n\u001b[32m      6\u001b[39m     scopes = [\n\u001b[32m      7\u001b[39m         \u001b[33m\"\u001b[39m\u001b[33mhttps://spreadsheets.google.com/feeds\u001b[39m\u001b[33m\"\u001b[39m,\n\u001b[32m      8\u001b[39m         \u001b[33m\"\u001b[39m\u001b[33mhttps://www.googleapis.com/auth/drive\u001b[39m\u001b[33m\"\u001b[39m,\n\u001b[32m      9\u001b[39m     ]\n\u001b[32m---> \u001b[39m\u001b[32m10\u001b[39m     creds = \u001b[43mServiceAccountCredentials\u001b[49m\u001b[43m.\u001b[49m\u001b[43mfrom_json_keyfile_name\u001b[49m\u001b[43m(\u001b[49m\u001b[43mfilename\u001b[49m\u001b[43m=\u001b[49m\u001b[43mcredentials_path\u001b[49m\u001b[43m,\u001b[49m\u001b[43m \u001b[49m\u001b[43mscopes\u001b[49m\u001b[43m=\u001b[49m\u001b[43mscopes\u001b[49m\u001b[43m)\u001b[49m\n\u001b[32m     11\u001b[39m     client = gspread.authorize(creds)\n\u001b[32m     12\u001b[39m     \u001b[38;5;28;01mreturn\u001b[39;00m client.open(title=worksheet_title).get_worksheet(worksheet_index)\n",
      "\u001b[36mFile \u001b[39m\u001b[32m~/scriptIndicacoesBazico/.venv/lib/python3.12/site-packages/oauth2client/service_account.py:219\u001b[39m, in \u001b[36mServiceAccountCredentials.from_json_keyfile_name\u001b[39m\u001b[34m(cls, filename, scopes, token_uri, revoke_uri)\u001b[39m\n\u001b[32m    193\u001b[39m \u001b[38;5;129m@classmethod\u001b[39m\n\u001b[32m    194\u001b[39m \u001b[38;5;28;01mdef\u001b[39;00m\u001b[38;5;250m \u001b[39m\u001b[34mfrom_json_keyfile_name\u001b[39m(\u001b[38;5;28mcls\u001b[39m, filename, scopes=\u001b[33m'\u001b[39m\u001b[33m'\u001b[39m,\n\u001b[32m    195\u001b[39m                            token_uri=\u001b[38;5;28;01mNone\u001b[39;00m, revoke_uri=\u001b[38;5;28;01mNone\u001b[39;00m):\n\u001b[32m    197\u001b[39m \u001b[38;5;250m    \u001b[39m\u001b[33;03m\"\"\"Factory constructor from JSON keyfile by name.\u001b[39;00m\n\u001b[32m    198\u001b[39m \n\u001b[32m    199\u001b[39m \u001b[33;03m    Args:\u001b[39;00m\n\u001b[32m   (...)\u001b[39m\u001b[32m    217\u001b[39m \u001b[33;03m            the keyfile.\u001b[39;00m\n\u001b[32m    218\u001b[39m \u001b[33;03m    \"\"\"\u001b[39;00m\n\u001b[32m--> \u001b[39m\u001b[32m219\u001b[39m     \u001b[38;5;28;01mwith\u001b[39;00m \u001b[38;5;28;43mopen\u001b[39;49m\u001b[43m(\u001b[49m\u001b[43mfilename\u001b[49m\u001b[43m,\u001b[49m\u001b[43m \u001b[49m\u001b[33;43m'\u001b[39;49m\u001b[33;43mr\u001b[39;49m\u001b[33;43m'\u001b[39;49m\u001b[43m)\u001b[49m \u001b[38;5;28;01mas\u001b[39;00m file_obj:\n\u001b[32m    220\u001b[39m         client_credentials = json.load(file_obj)\n\u001b[32m    221\u001b[39m     \u001b[38;5;28;01mreturn\u001b[39;00m \u001b[38;5;28mcls\u001b[39m._from_parsed_json_keyfile(client_credentials, scopes,\n\u001b[32m    222\u001b[39m                                          token_uri=token_uri,\n\u001b[32m    223\u001b[39m                                          revoke_uri=revoke_uri)\n",
      "\u001b[31mFileNotFoundError\u001b[39m: [Errno 2] No such file or directory: 'src/scripts/credentials.json'"
     ]
    }
   ],
   "source": [
    "import pandas as pd\n",
    "from google_sheets_utils import get_worksheet\n",
    "\n",
    "\n",
    "worksheet1 = get_worksheet(\"[100 PARCEIROS] PLANILHA GERAL\")\n",
    "worksheet2 = get_worksheet(\"Menções da Bázico - Agência Bázico\")\n",
    "worksheet3 = get_worksheet(\"LOG | SISTEMA DE INDICAÇÃO\")\n",
    "\n",
    "\n",
    "values_column = worksheet1.col_values(1)\n",
    "print(values_column)"
   ]
  }
 ],
 "metadata": {
  "kernelspec": {
   "display_name": ".venv",
   "language": "python",
   "name": "python3"
  },
  "language_info": {
   "codemirror_mode": {
    "name": "ipython",
    "version": 3
   },
   "file_extension": ".py",
   "mimetype": "text/x-python",
   "name": "python",
   "nbconvert_exporter": "python",
   "pygments_lexer": "ipython3",
   "version": "3.12.3"
  }
 },
 "nbformat": 4,
 "nbformat_minor": 5
}
